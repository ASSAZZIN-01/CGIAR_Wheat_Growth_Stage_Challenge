{
  "nbformat": 4,
  "nbformat_minor": 0,
  "metadata": {
    "colab": {
      "name": "densenet201_classif_FastaAI.ipynb",
      "provenance": []
    },
    "kernelspec": {
      "name": "python3",
      "display_name": "Python 3"
    },
    "accelerator": "GPU",
    "widgets": {
      "application/vnd.jupyter.widget-state+json": {
        "08b19ac5663d423aa30702ddad8814f9": {
          "model_module": "@jupyter-widgets/controls",
          "model_name": "HBoxModel",
          "state": {
            "_view_name": "HBoxView",
            "_dom_classes": [],
            "_model_name": "HBoxModel",
            "_view_module": "@jupyter-widgets/controls",
            "_model_module_version": "1.5.0",
            "_view_count": null,
            "_view_module_version": "1.5.0",
            "box_style": "",
            "layout": "IPY_MODEL_09e7b4b663fe4672aebb41085ea056b6",
            "_model_module": "@jupyter-widgets/controls",
            "children": [
              "IPY_MODEL_fa3846fcdf5c4df497a4c926370670df",
              "IPY_MODEL_3d7656c45d97426e94b75f85194a853b"
            ]
          }
        },
        "09e7b4b663fe4672aebb41085ea056b6": {
          "model_module": "@jupyter-widgets/base",
          "model_name": "LayoutModel",
          "state": {
            "_view_name": "LayoutView",
            "grid_template_rows": null,
            "right": null,
            "justify_content": null,
            "_view_module": "@jupyter-widgets/base",
            "overflow": null,
            "_model_module_version": "1.2.0",
            "_view_count": null,
            "flex_flow": null,
            "width": null,
            "min_width": null,
            "border": null,
            "align_items": null,
            "bottom": null,
            "_model_module": "@jupyter-widgets/base",
            "top": null,
            "grid_column": null,
            "overflow_y": null,
            "overflow_x": null,
            "grid_auto_flow": null,
            "grid_area": null,
            "grid_template_columns": null,
            "flex": null,
            "_model_name": "LayoutModel",
            "justify_items": null,
            "grid_row": null,
            "max_height": null,
            "align_content": null,
            "visibility": null,
            "align_self": null,
            "height": null,
            "min_height": null,
            "padding": null,
            "grid_auto_rows": null,
            "grid_gap": null,
            "max_width": null,
            "order": null,
            "_view_module_version": "1.2.0",
            "grid_template_areas": null,
            "object_position": null,
            "object_fit": null,
            "grid_auto_columns": null,
            "margin": null,
            "display": null,
            "left": null
          }
        },
        "fa3846fcdf5c4df497a4c926370670df": {
          "model_module": "@jupyter-widgets/controls",
          "model_name": "FloatProgressModel",
          "state": {
            "_view_name": "ProgressView",
            "style": "IPY_MODEL_021413cc73844015ac32d2aa5239ba17",
            "_dom_classes": [],
            "description": "100%",
            "_model_name": "FloatProgressModel",
            "bar_style": "success",
            "max": 81131730,
            "_view_module": "@jupyter-widgets/controls",
            "_model_module_version": "1.5.0",
            "value": 81131730,
            "_view_count": null,
            "_view_module_version": "1.5.0",
            "orientation": "horizontal",
            "min": 0,
            "description_tooltip": null,
            "_model_module": "@jupyter-widgets/controls",
            "layout": "IPY_MODEL_ba399908e5ae4788917c5eea7c544a88"
          }
        },
        "3d7656c45d97426e94b75f85194a853b": {
          "model_module": "@jupyter-widgets/controls",
          "model_name": "HTMLModel",
          "state": {
            "_view_name": "HTMLView",
            "style": "IPY_MODEL_1dc1b70a9b414f14858727a6bd11c608",
            "_dom_classes": [],
            "description": "",
            "_model_name": "HTMLModel",
            "placeholder": "​",
            "_view_module": "@jupyter-widgets/controls",
            "_model_module_version": "1.5.0",
            "value": " 77.4M/77.4M [00:01&lt;00:00, 68.1MB/s]",
            "_view_count": null,
            "_view_module_version": "1.5.0",
            "description_tooltip": null,
            "_model_module": "@jupyter-widgets/controls",
            "layout": "IPY_MODEL_f5b65b9606ab4e8d8e30e3f6d82669be"
          }
        },
        "021413cc73844015ac32d2aa5239ba17": {
          "model_module": "@jupyter-widgets/controls",
          "model_name": "ProgressStyleModel",
          "state": {
            "_view_name": "StyleView",
            "_model_name": "ProgressStyleModel",
            "description_width": "initial",
            "_view_module": "@jupyter-widgets/base",
            "_model_module_version": "1.5.0",
            "_view_count": null,
            "_view_module_version": "1.2.0",
            "bar_color": null,
            "_model_module": "@jupyter-widgets/controls"
          }
        },
        "ba399908e5ae4788917c5eea7c544a88": {
          "model_module": "@jupyter-widgets/base",
          "model_name": "LayoutModel",
          "state": {
            "_view_name": "LayoutView",
            "grid_template_rows": null,
            "right": null,
            "justify_content": null,
            "_view_module": "@jupyter-widgets/base",
            "overflow": null,
            "_model_module_version": "1.2.0",
            "_view_count": null,
            "flex_flow": null,
            "width": null,
            "min_width": null,
            "border": null,
            "align_items": null,
            "bottom": null,
            "_model_module": "@jupyter-widgets/base",
            "top": null,
            "grid_column": null,
            "overflow_y": null,
            "overflow_x": null,
            "grid_auto_flow": null,
            "grid_area": null,
            "grid_template_columns": null,
            "flex": null,
            "_model_name": "LayoutModel",
            "justify_items": null,
            "grid_row": null,
            "max_height": null,
            "align_content": null,
            "visibility": null,
            "align_self": null,
            "height": null,
            "min_height": null,
            "padding": null,
            "grid_auto_rows": null,
            "grid_gap": null,
            "max_width": null,
            "order": null,
            "_view_module_version": "1.2.0",
            "grid_template_areas": null,
            "object_position": null,
            "object_fit": null,
            "grid_auto_columns": null,
            "margin": null,
            "display": null,
            "left": null
          }
        },
        "1dc1b70a9b414f14858727a6bd11c608": {
          "model_module": "@jupyter-widgets/controls",
          "model_name": "DescriptionStyleModel",
          "state": {
            "_view_name": "StyleView",
            "_model_name": "DescriptionStyleModel",
            "description_width": "",
            "_view_module": "@jupyter-widgets/base",
            "_model_module_version": "1.5.0",
            "_view_count": null,
            "_view_module_version": "1.2.0",
            "_model_module": "@jupyter-widgets/controls"
          }
        },
        "f5b65b9606ab4e8d8e30e3f6d82669be": {
          "model_module": "@jupyter-widgets/base",
          "model_name": "LayoutModel",
          "state": {
            "_view_name": "LayoutView",
            "grid_template_rows": null,
            "right": null,
            "justify_content": null,
            "_view_module": "@jupyter-widgets/base",
            "overflow": null,
            "_model_module_version": "1.2.0",
            "_view_count": null,
            "flex_flow": null,
            "width": null,
            "min_width": null,
            "border": null,
            "align_items": null,
            "bottom": null,
            "_model_module": "@jupyter-widgets/base",
            "top": null,
            "grid_column": null,
            "overflow_y": null,
            "overflow_x": null,
            "grid_auto_flow": null,
            "grid_area": null,
            "grid_template_columns": null,
            "flex": null,
            "_model_name": "LayoutModel",
            "justify_items": null,
            "grid_row": null,
            "max_height": null,
            "align_content": null,
            "visibility": null,
            "align_self": null,
            "height": null,
            "min_height": null,
            "padding": null,
            "grid_auto_rows": null,
            "grid_gap": null,
            "max_width": null,
            "order": null,
            "_view_module_version": "1.2.0",
            "grid_template_areas": null,
            "object_position": null,
            "object_fit": null,
            "grid_auto_columns": null,
            "margin": null,
            "display": null,
            "left": null
          }
        }
      }
    }
  },
  "cells": [
    {
      "cell_type": "code",
      "metadata": {
        "id": "kvh8i2DLPk2t",
        "outputId": "798dd90a-d640-4080-acfe-8850e8009f94",
        "colab": {
          "base_uri": "https://localhost:8080/",
          "height": 381
        }
      },
      "source": [
        "!nvidia-smi"
      ],
      "execution_count": 1,
      "outputs": [
        {
          "output_type": "stream",
          "text": [
            "Tue Oct  6 19:30:54 2020       \n",
            "+-----------------------------------------------------------------------------+\n",
            "| NVIDIA-SMI 455.23.05    Driver Version: 418.67       CUDA Version: 10.1     |\n",
            "|-------------------------------+----------------------+----------------------+\n",
            "| GPU  Name        Persistence-M| Bus-Id        Disp.A | Volatile Uncorr. ECC |\n",
            "| Fan  Temp  Perf  Pwr:Usage/Cap|         Memory-Usage | GPU-Util  Compute M. |\n",
            "|                               |                      |               MIG M. |\n",
            "|===============================+======================+======================|\n",
            "|   0  Tesla T4            Off  | 00000000:00:04.0 Off |                    0 |\n",
            "| N/A   42C    P8    10W /  70W |      0MiB / 15079MiB |      0%      Default |\n",
            "|                               |                      |                 ERR! |\n",
            "+-------------------------------+----------------------+----------------------+\n",
            "                                                                               \n",
            "+-----------------------------------------------------------------------------+\n",
            "| Processes:                                                                  |\n",
            "|  GPU   GI   CI        PID   Type   Process name                  GPU Memory |\n",
            "|        ID   ID                                                   Usage      |\n",
            "|=============================================================================|\n",
            "|  No running processes found                                                 |\n",
            "+-----------------------------------------------------------------------------+\n"
          ],
          "name": "stdout"
        }
      ]
    },
    {
      "cell_type": "code",
      "metadata": {
        "id": "3Rzui9pzXTZ9",
        "outputId": "810a2e69-653f-49a8-8b0c-24878d1daf27",
        "colab": {
          "base_uri": "https://localhost:8080/",
          "height": 35
        }
      },
      "source": [
        "from google.colab import drive\n",
        "drive.mount('/content/drive')"
      ],
      "execution_count": 2,
      "outputs": [
        {
          "output_type": "stream",
          "text": [
            "Mounted at /content/drive\n"
          ],
          "name": "stdout"
        }
      ]
    },
    {
      "cell_type": "code",
      "metadata": {
        "id": "N8MaNP88XUbx"
      },
      "source": [
        "!cp '/content/drive/My Drive/CGIAR_Wheat_Growth_Stage_Challenge/zindi-cgiar.zip' images.zip # You may have them stored in a folder, in which case modify the path."
      ],
      "execution_count": 3,
      "outputs": []
    },
    {
      "cell_type": "code",
      "metadata": {
        "id": "w9AVKUNrXcUo"
      },
      "source": [
        "# Now we can unzip:\n",
        "!unzip -q images.zip"
      ],
      "execution_count": 4,
      "outputs": []
    },
    {
      "cell_type": "markdown",
      "metadata": {
        "id": "pBbgJPJHXhff"
      },
      "source": [
        "# **Setup**"
      ]
    },
    {
      "cell_type": "code",
      "metadata": {
        "id": "iFyMjqN9Xd2o"
      },
      "source": [
        "import numpy as np\n",
        "import torch\n",
        "import random\n",
        "import os\n",
        "seed = 42\n",
        "\n",
        "# python RNG\n",
        "import random\n",
        "random.seed(seed)\n",
        "\n",
        "# pytorch RNGs\n",
        "import torch\n",
        "torch.manual_seed(seed)\n",
        "torch.backends.cudnn.deterministic = True\n",
        "if torch.cuda.is_available(): torch.cuda.manual_seed_all(seed)\n",
        "\n",
        "# numpy RNG\n",
        "import numpy as np\n",
        "np.random.seed(seed)"
      ],
      "execution_count": 5,
      "outputs": []
    },
    {
      "cell_type": "code",
      "metadata": {
        "id": "_TowluvlXjkw",
        "outputId": "b6dd90f4-2be4-41a9-8c33-b8641e2ce023",
        "colab": {
          "base_uri": "https://localhost:8080/",
          "height": 54
        }
      },
      "source": [
        "!pip install -q --upgrade fastcore \n",
        "!pip install -q --upgrade fastai # Make sure we have the latest fastai"
      ],
      "execution_count": 6,
      "outputs": [
        {
          "output_type": "stream",
          "text": [
            "\u001b[K     |████████████████████████████████| 51kB 3.7MB/s \n",
            "\u001b[K     |████████████████████████████████| 194kB 3.8MB/s \n",
            "\u001b[?25h"
          ],
          "name": "stdout"
        }
      ]
    },
    {
      "cell_type": "code",
      "metadata": {
        "id": "DVYT9KxiXtFQ"
      },
      "source": [
        "import pandas as pd\n",
        "from matplotlib import pyplot as plt\n",
        "from PIL import Image as PImage # TO avoid confusion later\n",
        "from fastai.vision.all import *"
      ],
      "execution_count": 7,
      "outputs": []
    },
    {
      "cell_type": "code",
      "metadata": {
        "id": "xfD5olfzXuCo"
      },
      "source": [
        "# Matplotlib forms basis for visualization in Python\n",
        "import matplotlib.pyplot as plt\n",
        "\n",
        "# We will use the Seaborn library\n",
        "import seaborn as sns\n",
        "sns.set()\n",
        "\n",
        "# Graphics in retina format are more sharp and legible\n",
        "%config InlineBackend.figure_format = 'retina' \n",
        "\n",
        "# Increase the default plot size and set the color scheme\n",
        "plt.rcParams['figure.figsize'] = 8, 5\n",
        "plt.rcParams['image.cmap'] = 'viridis'"
      ],
      "execution_count": 8,
      "outputs": []
    },
    {
      "cell_type": "markdown",
      "metadata": {
        "id": "u4HbFInhXyJP"
      },
      "source": [
        "# **Exploring**"
      ]
    },
    {
      "cell_type": "code",
      "metadata": {
        "id": "JgyzfYCsXvJP",
        "outputId": "a11a879c-55ab-41be-8ba9-73f5b2b026b2",
        "colab": {
          "base_uri": "https://localhost:8080/",
          "height": 366
        }
      },
      "source": [
        "# Load and view the data\n",
        "train = pd.read_csv('Train.csv')\n",
        "print(train.shape)\n",
        "train.head(10)"
      ],
      "execution_count": 11,
      "outputs": [
        {
          "output_type": "stream",
          "text": [
            "(10695, 3)\n"
          ],
          "name": "stdout"
        },
        {
          "output_type": "execute_result",
          "data": {
            "text/html": [
              "<div>\n",
              "<style scoped>\n",
              "    .dataframe tbody tr th:only-of-type {\n",
              "        vertical-align: middle;\n",
              "    }\n",
              "\n",
              "    .dataframe tbody tr th {\n",
              "        vertical-align: top;\n",
              "    }\n",
              "\n",
              "    .dataframe thead th {\n",
              "        text-align: right;\n",
              "    }\n",
              "</style>\n",
              "<table border=\"1\" class=\"dataframe\">\n",
              "  <thead>\n",
              "    <tr style=\"text-align: right;\">\n",
              "      <th></th>\n",
              "      <th>UID</th>\n",
              "      <th>growth_stage</th>\n",
              "      <th>label_quality</th>\n",
              "    </tr>\n",
              "  </thead>\n",
              "  <tbody>\n",
              "    <tr>\n",
              "      <th>0</th>\n",
              "      <td>nwuCTQKz</td>\n",
              "      <td>4</td>\n",
              "      <td>2</td>\n",
              "    </tr>\n",
              "    <tr>\n",
              "      <th>1</th>\n",
              "      <td>NVGUOzWu</td>\n",
              "      <td>1</td>\n",
              "      <td>1</td>\n",
              "    </tr>\n",
              "    <tr>\n",
              "      <th>2</th>\n",
              "      <td>1IYVvHwA</td>\n",
              "      <td>1</td>\n",
              "      <td>1</td>\n",
              "    </tr>\n",
              "    <tr>\n",
              "      <th>3</th>\n",
              "      <td>8OEdWwmU</td>\n",
              "      <td>1</td>\n",
              "      <td>1</td>\n",
              "    </tr>\n",
              "    <tr>\n",
              "      <th>4</th>\n",
              "      <td>oc5iO04j</td>\n",
              "      <td>1</td>\n",
              "      <td>1</td>\n",
              "    </tr>\n",
              "    <tr>\n",
              "      <th>5</th>\n",
              "      <td>A60rOyP9</td>\n",
              "      <td>1</td>\n",
              "      <td>1</td>\n",
              "    </tr>\n",
              "    <tr>\n",
              "      <th>6</th>\n",
              "      <td>TnVJ3pgC</td>\n",
              "      <td>6</td>\n",
              "      <td>1</td>\n",
              "    </tr>\n",
              "    <tr>\n",
              "      <th>7</th>\n",
              "      <td>sYLqmiXV</td>\n",
              "      <td>3</td>\n",
              "      <td>2</td>\n",
              "    </tr>\n",
              "    <tr>\n",
              "      <th>8</th>\n",
              "      <td>Q5iyu8IP</td>\n",
              "      <td>7</td>\n",
              "      <td>1</td>\n",
              "    </tr>\n",
              "    <tr>\n",
              "      <th>9</th>\n",
              "      <td>s2X0it4L</td>\n",
              "      <td>1</td>\n",
              "      <td>1</td>\n",
              "    </tr>\n",
              "  </tbody>\n",
              "</table>\n",
              "</div>"
            ],
            "text/plain": [
              "        UID  growth_stage  label_quality\n",
              "0  nwuCTQKz             4              2\n",
              "1  NVGUOzWu             1              1\n",
              "2  1IYVvHwA             1              1\n",
              "3  8OEdWwmU             1              1\n",
              "4  oc5iO04j             1              1\n",
              "5  A60rOyP9             1              1\n",
              "6  TnVJ3pgC             6              1\n",
              "7  sYLqmiXV             3              2\n",
              "8  Q5iyu8IP             7              1\n",
              "9  s2X0it4L             1              1"
            ]
          },
          "metadata": {
            "tags": []
          },
          "execution_count": 11
        }
      ]
    },
    {
      "cell_type": "code",
      "metadata": {
        "id": "v5kpsz22Ymst",
        "outputId": "84e295d6-066b-49d1-f538-2117b62f5c8c",
        "colab": {
          "base_uri": "https://localhost:8080/",
          "height": 393
        }
      },
      "source": [
        "_, axes = plt.subplots(1, 1, sharey=True, figsize=(20, 6))\n",
        "#plt.figure(figsize=(45,6))\n",
        "sns.countplot(x='growth_stage', hue='label_quality', data=train );"
      ],
      "execution_count": 12,
      "outputs": [
        {
          "output_type": "display_data",
          "data": {
            "image/png": "[encoded data removed]",
            "text/plain": [
              "<Figure size 1440x432 with 1 Axes>"
            ]
          },
          "metadata": {
            "tags": [],
            "image/png": {
              "width": 1184,
              "height": 376
            }
          }
        }
      ]
    },
    {
      "cell_type": "markdown",
      "metadata": {
        "id": "WaKCT8YGhcJD"
      },
      "source": [
        "# **StraightFOLD**"
      ]
    },
    {
      "cell_type": "code",
      "metadata": {
        "id": "AqhYqbd3h5Bm"
      },
      "source": [
        "import random\n",
        "import numpy as np\n",
        "import gc\n",
        "SEED_VAL  = 152\n",
        "# Set the seed value all over the place to make this reproducible.\n",
        "def seed_all(SEED):\n",
        "  random.seed(SEED_VAL)\n",
        "  np.random.seed(SEED_VAL)\n",
        "  torch.manual_seed(SEED_VAL)\n",
        "  torch.cuda.manual_seed_all(SEED_VAL)\n",
        "  os.environ['PYTHONHASHSEED'] = str(SEED_VAL)\n",
        "  torch.backends.cudnn.deterministic = True\n",
        "  torch.backends.cudnn.benchmark = False"
      ],
      "execution_count": 13,
      "outputs": []
    },
    {
      "cell_type": "code",
      "metadata": {
        "id": "8GN4vlu3hfTt",
        "outputId": "cb51f6a4-741c-4ad8-a761-bdef01424be5",
        "colab": {
          "base_uri": "https://localhost:8080/",
          "height": 74
        }
      },
      "source": [
        "from sklearn.model_selection import StratifiedKFold\n",
        "\n",
        "NAME = 'densenet201'\n",
        "EPOCHS = 10\n",
        "TRAIN_BATH_SIZE = 8\n",
        "image_size = (256,400)\n",
        "ss = pd.read_csv('SampleSubmission.csv')\n",
        "\n",
        "\n",
        "skf = StratifiedKFold(n_splits=10,random_state=SEED_VAL)\n",
        "all_rmse_scores = []\n",
        "def run_folds():\n",
        "  seed_all(SEED_VAL)\n",
        "  test = pd.read_csv('SampleSubmission.csv')\n",
        "  train = pd.read_csv('Train.csv')\n",
        "  train = train.loc[train.label_quality == 2]\n",
        "  \n",
        "  DF = pd.DataFrame()\n",
        "  for i,(train_index,val_index) in enumerate(skf.split(train,y=train.growth_stage)):\n",
        "    print(f\"#########################  Fold {i+1}/{skf.n_splits}  #########################\")\n",
        "    train_df , valid_df = train.iloc[train_index,:],train.iloc[val_index,:]\n",
        "    \n",
        "    # Create our dataloaders\n",
        "    transforms = aug_transforms(max_rotate=15,max_zoom=2.0, max_lighting=0.4,\n",
        "                              p_affine=1., p_lighting=1.)\n",
        "    dls = ImageDataLoaders.from_df(train_df,valid_pct=0.1 ,path='Images/Images/', suff='.jpeg', \n",
        "                                  label_col='growth_stage', item_tfms=Resize(image_size),bs=TRAIN_BATH_SIZE,ds_tfms=transforms,num_workers=1)\n",
        "    # define - Learner\n",
        "    learn = cnn_learner(dls, densenet201, metrics=error_rate)\n",
        "    print(\"\\n `\\n Start Training ....\")\n",
        "    learn.fine_tune(EPOCHS)\n",
        "    print(\"\\n `\\n Start Validating ....\")\n",
        "    vdl = learn.dls.test_dl(valid_df) # Make valid dataloader\n",
        "    preds = learn.get_preds(dl=vdl) # Get model validation predictions\n",
        "    valid_preds = (preds[0] * tensor([int(c) for c in learn.dls.vocab])).sum(dim=1)\n",
        "    targets = np.array(valid_df.growth_stage.values)\n",
        "    valid_rmse = np.sqrt(((valid_preds - targets) ** 2).mean())\n",
        "    print(f'VALIDATION RMSE FOR FOLD : {i} ::: {valid_rmse}')\n",
        "    print(\"\\n `\\n Start PREDICTING ....\")\n",
        "\n",
        "    ss = pd.read_csv('SampleSubmission.csv')\n",
        "    tdl = learn.dls.test_dl(ss) # Make test dataloader\n",
        "    preds = learn.get_preds(dl=tdl) # Get model predictions\n",
        "    preds_test = (preds[0] * tensor([int(c) for c in learn.dls.vocab])).sum(dim=1)\n",
        "    test[f'preds_FOLD_{i}'] = preds_test\n",
        "    print(test.head())\n",
        "\n",
        "    gc.collect()\n",
        "   \n",
        "  return test\n"
      ],
      "execution_count": 14,
      "outputs": [
        {
          "output_type": "stream",
          "text": [
            "/usr/local/lib/python3.6/dist-packages/sklearn/model_selection/_split.py:296: FutureWarning: Setting a random_state has no effect since shuffle is False. This will raise an error in 0.24. You should leave random_state to its default (None), or set shuffle=True.\n",
            "  FutureWarning\n"
          ],
          "name": "stderr"
        }
      ]
    },
    {
      "cell_type": "code",
      "metadata": {
        "id": "rEA6Yn5TmjiI",
        "outputId": "d08bc201-b67d-40b1-dd11-15e71de667a7",
        "colab": {
          "base_uri": "https://localhost:8080/",
          "height": 1000,
          "referenced_widgets": [
            "08b19ac5663d423aa30702ddad8814f9",
            "09e7b4b663fe4672aebb41085ea056b6",
            "fa3846fcdf5c4df497a4c926370670df",
            "3d7656c45d97426e94b75f85194a853b",
            "021413cc73844015ac32d2aa5239ba17",
            "ba399908e5ae4788917c5eea7c544a88",
            "1dc1b70a9b414f14858727a6bd11c608",
            "f5b65b9606ab4e8d8e30e3f6d82669be"
          ]
        }
      },
      "source": [
        "import warnings\n",
        "warnings.simplefilter('ignore')                                       \n",
        "submission = run_folds()"
      ],
      "execution_count": 15,
      "outputs": [
        {
          "output_type": "stream",
          "text": [
            "#########################  Fold 1/10  #########################\n"
          ],
          "name": "stdout"
        },
        {
          "output_type": "stream",
          "text": [
            "Downloading: \"https://download.pytorch.org/models/densenet201-c1103571.pth\" to /root/.cache/torch/hub/checkpoints/densenet201-c1103571.pth\n"
          ],
          "name": "stderr"
        },
        {
          "output_type": "display_data",
          "data": {
            "application/vnd.jupyter.widget-view+json": {
              "model_id": "08b19ac5663d423aa30702ddad8814f9",
              "version_minor": 0,
              "version_major": 2
            },
            "text/plain": [
              "HBox(children=(FloatProgress(value=0.0, max=81131730.0), HTML(value='')))"
            ]
          },
          "metadata": {
            "tags": []
          }
        },
        {
          "output_type": "stream",
          "text": [
            "\n",
            "\n",
            " `\n",
            " Start Training ....\n"
          ],
          "name": "stdout"
        },
        {
          "output_type": "display_data",
          "data": {
            "text/html": [
              "<table border=\"1\" class=\"dataframe\">\n",
              "  <thead>\n",
              "    <tr style=\"text-align: left;\">\n",
              "      <th>epoch</th>\n",
              "      <th>train_loss</th>\n",
              "      <th>valid_loss</th>\n",
              "      <th>error_rate</th>\n",
              "      <th>time</th>\n",
              "    </tr>\n",
              "  </thead>\n",
              "  <tbody>\n",
              "    <tr>\n",
              "      <td>0</td>\n",
              "      <td>1.247556</td>\n",
              "      <td>0.745256</td>\n",
              "      <td>0.233463</td>\n",
              "      <td>01:12</td>\n",
              "    </tr>\n",
              "  </tbody>\n",
              "</table>"
            ],
            "text/plain": [
              "<IPython.core.display.HTML object>"
            ]
          },
          "metadata": {
            "tags": []
          }
        },
        {
          "output_type": "display_data",
          "data": {
            "text/html": [
              "<table border=\"1\" class=\"dataframe\">\n",
              "  <thead>\n",
              "    <tr style=\"text-align: left;\">\n",
              "      <th>epoch</th>\n",
              "      <th>train_loss</th>\n",
              "      <th>valid_loss</th>\n",
              "      <th>error_rate</th>\n",
              "      <th>time</th>\n",
              "    </tr>\n",
              "  </thead>\n",
              "  <tbody>\n",
              "    <tr>\n",
              "      <td>0</td>\n",
              "      <td>0.897276</td>\n",
              "      <td>0.656997</td>\n",
              "      <td>0.249027</td>\n",
              "      <td>01:46</td>\n",
              "    </tr>\n",
              "    <tr>\n",
              "      <td>1</td>\n",
              "      <td>0.892847</td>\n",
              "      <td>0.565023</td>\n",
              "      <td>0.186770</td>\n",
              "      <td>01:48</td>\n",
              "    </tr>\n",
              "    <tr>\n",
              "      <td>2</td>\n",
              "      <td>0.846118</td>\n",
              "      <td>0.552426</td>\n",
              "      <td>0.210117</td>\n",
              "      <td>01:49</td>\n",
              "    </tr>\n",
              "    <tr>\n",
              "      <td>3</td>\n",
              "      <td>0.714372</td>\n",
              "      <td>0.531878</td>\n",
              "      <td>0.194553</td>\n",
              "      <td>01:49</td>\n",
              "    </tr>\n",
              "    <tr>\n",
              "      <td>4</td>\n",
              "      <td>0.640442</td>\n",
              "      <td>0.543139</td>\n",
              "      <td>0.221790</td>\n",
              "      <td>01:49</td>\n",
              "    </tr>\n",
              "    <tr>\n",
              "      <td>5</td>\n",
              "      <td>0.607266</td>\n",
              "      <td>0.479148</td>\n",
              "      <td>0.163424</td>\n",
              "      <td>01:49</td>\n",
              "    </tr>\n",
              "    <tr>\n",
              "      <td>6</td>\n",
              "      <td>0.472751</td>\n",
              "      <td>0.488522</td>\n",
              "      <td>0.147860</td>\n",
              "      <td>01:49</td>\n",
              "    </tr>\n",
              "    <tr>\n",
              "      <td>7</td>\n",
              "      <td>0.367138</td>\n",
              "      <td>0.542274</td>\n",
              "      <td>0.171206</td>\n",
              "      <td>01:49</td>\n",
              "    </tr>\n",
              "    <tr>\n",
              "      <td>8</td>\n",
              "      <td>0.280345</td>\n",
              "      <td>0.462915</td>\n",
              "      <td>0.140078</td>\n",
              "      <td>01:49</td>\n",
              "    </tr>\n",
              "    <tr>\n",
              "      <td>9</td>\n",
              "      <td>0.261537</td>\n",
              "      <td>0.469787</td>\n",
              "      <td>0.147860</td>\n",
              "      <td>01:49</td>\n",
              "    </tr>\n",
              "  </tbody>\n",
              "</table>"
            ],
            "text/plain": [
              "<IPython.core.display.HTML object>"
            ]
          },
          "metadata": {
            "tags": []
          }
        },
        {
          "output_type": "stream",
          "text": [
            "\n",
            " `\n",
            " Start Validating ....\n"
          ],
          "name": "stdout"
        },
        {
          "output_type": "display_data",
          "data": {
            "text/html": [
              ""
            ],
            "text/plain": [
              "<IPython.core.display.HTML object>"
            ]
          },
          "metadata": {
            "tags": []
          }
        },
        {
          "output_type": "stream",
          "text": [
            "VALIDATION RMSE FOR FOLD : 0 ::: 0.4129670190675719\n",
            "\n",
            " `\n",
            " Start PREDICTING ....\n"
          ],
          "name": "stdout"
        },
        {
          "output_type": "display_data",
          "data": {
            "text/html": [
              ""
            ],
            "text/plain": [
              "<IPython.core.display.HTML object>"
            ]
          },
          "metadata": {
            "tags": []
          }
        },
        {
          "output_type": "stream",
          "text": [
            "        UID  growth_stage  preds_FOLD_0\n",
            "0  F3LbWkZq             0      4.784315\n",
            "1  6P4wLVzI             0      4.019276\n",
            "2  Tn6HIrdS             0      2.994526\n",
            "3  EYM5R1TK             0      3.999968\n",
            "4  fkcevlA0             0      4.688940\n",
            "#########################  Fold 2/10  #########################\n",
            "\n",
            " `\n",
            " Start Training ....\n"
          ],
          "name": "stdout"
        },
        {
          "output_type": "display_data",
          "data": {
            "text/html": [
              "<table border=\"1\" class=\"dataframe\">\n",
              "  <thead>\n",
              "    <tr style=\"text-align: left;\">\n",
              "      <th>epoch</th>\n",
              "      <th>train_loss</th>\n",
              "      <th>valid_loss</th>\n",
              "      <th>error_rate</th>\n",
              "      <th>time</th>\n",
              "    </tr>\n",
              "  </thead>\n",
              "  <tbody>\n",
              "    <tr>\n",
              "      <td>0</td>\n",
              "      <td>1.347299</td>\n",
              "      <td>0.858641</td>\n",
              "      <td>0.307393</td>\n",
              "      <td>01:15</td>\n",
              "    </tr>\n",
              "  </tbody>\n",
              "</table>"
            ],
            "text/plain": [
              "<IPython.core.display.HTML object>"
            ]
          },
          "metadata": {
            "tags": []
          }
        },
        {
          "output_type": "display_data",
          "data": {
            "text/html": [
              "<table border=\"1\" class=\"dataframe\">\n",
              "  <thead>\n",
              "    <tr style=\"text-align: left;\">\n",
              "      <th>epoch</th>\n",
              "      <th>train_loss</th>\n",
              "      <th>valid_loss</th>\n",
              "      <th>error_rate</th>\n",
              "      <th>time</th>\n",
              "    </tr>\n",
              "  </thead>\n",
              "  <tbody>\n",
              "    <tr>\n",
              "      <td>0</td>\n",
              "      <td>0.915200</td>\n",
              "      <td>0.593480</td>\n",
              "      <td>0.202335</td>\n",
              "      <td>01:49</td>\n",
              "    </tr>\n",
              "    <tr>\n",
              "      <td>1</td>\n",
              "      <td>0.963558</td>\n",
              "      <td>0.649486</td>\n",
              "      <td>0.225681</td>\n",
              "      <td>01:49</td>\n",
              "    </tr>\n",
              "    <tr>\n",
              "      <td>2</td>\n",
              "      <td>0.859700</td>\n",
              "      <td>0.703585</td>\n",
              "      <td>0.276265</td>\n",
              "      <td>01:50</td>\n",
              "    </tr>\n",
              "    <tr>\n",
              "      <td>3</td>\n",
              "      <td>0.734127</td>\n",
              "      <td>0.510801</td>\n",
              "      <td>0.198444</td>\n",
              "      <td>01:49</td>\n",
              "    </tr>\n",
              "    <tr>\n",
              "      <td>4</td>\n",
              "      <td>0.623832</td>\n",
              "      <td>0.523550</td>\n",
              "      <td>0.202335</td>\n",
              "      <td>01:49</td>\n",
              "    </tr>\n",
              "    <tr>\n",
              "      <td>5</td>\n",
              "      <td>0.538254</td>\n",
              "      <td>0.480000</td>\n",
              "      <td>0.175097</td>\n",
              "      <td>01:49</td>\n",
              "    </tr>\n",
              "    <tr>\n",
              "      <td>6</td>\n",
              "      <td>0.462138</td>\n",
              "      <td>0.455076</td>\n",
              "      <td>0.182879</td>\n",
              "      <td>01:49</td>\n",
              "    </tr>\n",
              "    <tr>\n",
              "      <td>7</td>\n",
              "      <td>0.346468</td>\n",
              "      <td>0.477606</td>\n",
              "      <td>0.186770</td>\n",
              "      <td>01:49</td>\n",
              "    </tr>\n",
              "    <tr>\n",
              "      <td>8</td>\n",
              "      <td>0.289804</td>\n",
              "      <td>0.462963</td>\n",
              "      <td>0.186770</td>\n",
              "      <td>01:49</td>\n",
              "    </tr>\n",
              "    <tr>\n",
              "      <td>9</td>\n",
              "      <td>0.229832</td>\n",
              "      <td>0.490964</td>\n",
              "      <td>0.186770</td>\n",
              "      <td>01:49</td>\n",
              "    </tr>\n",
              "  </tbody>\n",
              "</table>"
            ],
            "text/plain": [
              "<IPython.core.display.HTML object>"
            ]
          },
          "metadata": {
            "tags": []
          }
        },
        {
          "output_type": "stream",
          "text": [
            "\n",
            " `\n",
            " Start Validating ....\n"
          ],
          "name": "stdout"
        },
        {
          "output_type": "display_data",
          "data": {
            "text/html": [
              ""
            ],
            "text/plain": [
              "<IPython.core.display.HTML object>"
            ]
          },
          "metadata": {
            "tags": []
          }
        },
        {
          "output_type": "stream",
          "text": [
            "VALIDATION RMSE FOR FOLD : 1 ::: 0.4392205298966162\n",
            "\n",
            " `\n",
            " Start PREDICTING ....\n"
          ],
          "name": "stdout"
        },
        {
          "output_type": "display_data",
          "data": {
            "text/html": [
              ""
            ],
            "text/plain": [
              "<IPython.core.display.HTML object>"
            ]
          },
          "metadata": {
            "tags": []
          }
        },
        {
          "output_type": "stream",
          "text": [
            "        UID  growth_stage  preds_FOLD_0  preds_FOLD_1\n",
            "0  F3LbWkZq             0      4.784315      4.240155\n",
            "1  6P4wLVzI             0      4.019276      3.993330\n",
            "2  Tn6HIrdS             0      2.994526      2.988388\n",
            "3  EYM5R1TK             0      3.999968      3.996618\n",
            "4  fkcevlA0             0      4.688940      4.888706\n",
            "#########################  Fold 3/10  #########################\n",
            "\n",
            " `\n",
            " Start Training ....\n"
          ],
          "name": "stdout"
        },
        {
          "output_type": "display_data",
          "data": {
            "text/html": [
              "<table border=\"1\" class=\"dataframe\">\n",
              "  <thead>\n",
              "    <tr style=\"text-align: left;\">\n",
              "      <th>epoch</th>\n",
              "      <th>train_loss</th>\n",
              "      <th>valid_loss</th>\n",
              "      <th>error_rate</th>\n",
              "      <th>time</th>\n",
              "    </tr>\n",
              "  </thead>\n",
              "  <tbody>\n",
              "    <tr>\n",
              "      <td>0</td>\n",
              "      <td>1.431500</td>\n",
              "      <td>0.778521</td>\n",
              "      <td>0.272374</td>\n",
              "      <td>01:15</td>\n",
              "    </tr>\n",
              "  </tbody>\n",
              "</table>"
            ],
            "text/plain": [
              "<IPython.core.display.HTML object>"
            ]
          },
          "metadata": {
            "tags": []
          }
        },
        {
          "output_type": "display_data",
          "data": {
            "text/html": [
              "<table border=\"1\" class=\"dataframe\">\n",
              "  <thead>\n",
              "    <tr style=\"text-align: left;\">\n",
              "      <th>epoch</th>\n",
              "      <th>train_loss</th>\n",
              "      <th>valid_loss</th>\n",
              "      <th>error_rate</th>\n",
              "      <th>time</th>\n",
              "    </tr>\n",
              "  </thead>\n",
              "  <tbody>\n",
              "    <tr>\n",
              "      <td>0</td>\n",
              "      <td>0.878559</td>\n",
              "      <td>0.488522</td>\n",
              "      <td>0.198444</td>\n",
              "      <td>01:50</td>\n",
              "    </tr>\n",
              "    <tr>\n",
              "      <td>1</td>\n",
              "      <td>0.906617</td>\n",
              "      <td>0.589528</td>\n",
              "      <td>0.194553</td>\n",
              "      <td>01:49</td>\n",
              "    </tr>\n",
              "    <tr>\n",
              "      <td>2</td>\n",
              "      <td>0.867249</td>\n",
              "      <td>0.520675</td>\n",
              "      <td>0.206226</td>\n",
              "      <td>01:49</td>\n",
              "    </tr>\n",
              "    <tr>\n",
              "      <td>3</td>\n",
              "      <td>0.752665</td>\n",
              "      <td>0.567797</td>\n",
              "      <td>0.241245</td>\n",
              "      <td>01:49</td>\n",
              "    </tr>\n",
              "    <tr>\n",
              "      <td>4</td>\n",
              "      <td>0.684329</td>\n",
              "      <td>0.506054</td>\n",
              "      <td>0.202335</td>\n",
              "      <td>01:49</td>\n",
              "    </tr>\n",
              "    <tr>\n",
              "      <td>5</td>\n",
              "      <td>0.636277</td>\n",
              "      <td>0.450955</td>\n",
              "      <td>0.190661</td>\n",
              "      <td>01:49</td>\n",
              "    </tr>\n",
              "    <tr>\n",
              "      <td>6</td>\n",
              "      <td>0.449868</td>\n",
              "      <td>0.424186</td>\n",
              "      <td>0.186770</td>\n",
              "      <td>01:49</td>\n",
              "    </tr>\n",
              "    <tr>\n",
              "      <td>7</td>\n",
              "      <td>0.354694</td>\n",
              "      <td>0.428436</td>\n",
              "      <td>0.143969</td>\n",
              "      <td>01:49</td>\n",
              "    </tr>\n",
              "    <tr>\n",
              "      <td>8</td>\n",
              "      <td>0.274603</td>\n",
              "      <td>0.430139</td>\n",
              "      <td>0.143969</td>\n",
              "      <td>01:49</td>\n",
              "    </tr>\n",
              "    <tr>\n",
              "      <td>9</td>\n",
              "      <td>0.261901</td>\n",
              "      <td>0.404283</td>\n",
              "      <td>0.143969</td>\n",
              "      <td>01:49</td>\n",
              "    </tr>\n",
              "  </tbody>\n",
              "</table>"
            ],
            "text/plain": [
              "<IPython.core.display.HTML object>"
            ]
          },
          "metadata": {
            "tags": []
          }
        },
        {
          "output_type": "stream",
          "text": [
            "\n",
            " `\n",
            " Start Validating ....\n"
          ],
          "name": "stdout"
        },
        {
          "output_type": "display_data",
          "data": {
            "text/html": [
              ""
            ],
            "text/plain": [
              "<IPython.core.display.HTML object>"
            ]
          },
          "metadata": {
            "tags": []
          }
        },
        {
          "output_type": "stream",
          "text": [
            "VALIDATION RMSE FOR FOLD : 2 ::: 0.4225010247994279\n",
            "\n",
            " `\n",
            " Start PREDICTING ....\n"
          ],
          "name": "stdout"
        },
        {
          "output_type": "display_data",
          "data": {
            "text/html": [
              ""
            ],
            "text/plain": [
              "<IPython.core.display.HTML object>"
            ]
          },
          "metadata": {
            "tags": []
          }
        },
        {
          "output_type": "stream",
          "text": [
            "        UID  growth_stage  preds_FOLD_0  preds_FOLD_1  preds_FOLD_2\n",
            "0  F3LbWkZq             0      4.784315      4.240155      4.532924\n",
            "1  6P4wLVzI             0      4.019276      3.993330      4.002102\n",
            "2  Tn6HIrdS             0      2.994526      2.988388      2.967512\n",
            "3  EYM5R1TK             0      3.999968      3.996618      4.001158\n",
            "4  fkcevlA0             0      4.688940      4.888706      5.233644\n",
            "#########################  Fold 4/10  #########################\n",
            "\n",
            " `\n",
            " Start Training ....\n"
          ],
          "name": "stdout"
        },
        {
          "output_type": "display_data",
          "data": {
            "text/html": [
              "<table border=\"1\" class=\"dataframe\">\n",
              "  <thead>\n",
              "    <tr style=\"text-align: left;\">\n",
              "      <th>epoch</th>\n",
              "      <th>train_loss</th>\n",
              "      <th>valid_loss</th>\n",
              "      <th>error_rate</th>\n",
              "      <th>time</th>\n",
              "    </tr>\n",
              "  </thead>\n",
              "  <tbody>\n",
              "    <tr>\n",
              "      <td>0</td>\n",
              "      <td>1.317782</td>\n",
              "      <td>0.917176</td>\n",
              "      <td>0.303502</td>\n",
              "      <td>01:15</td>\n",
              "    </tr>\n",
              "  </tbody>\n",
              "</table>"
            ],
            "text/plain": [
              "<IPython.core.display.HTML object>"
            ]
          },
          "metadata": {
            "tags": []
          }
        },
        {
          "output_type": "display_data",
          "data": {
            "text/html": [
              "<table border=\"1\" class=\"dataframe\">\n",
              "  <thead>\n",
              "    <tr style=\"text-align: left;\">\n",
              "      <th>epoch</th>\n",
              "      <th>train_loss</th>\n",
              "      <th>valid_loss</th>\n",
              "      <th>error_rate</th>\n",
              "      <th>time</th>\n",
              "    </tr>\n",
              "  </thead>\n",
              "  <tbody>\n",
              "    <tr>\n",
              "      <td>0</td>\n",
              "      <td>0.962694</td>\n",
              "      <td>0.639916</td>\n",
              "      <td>0.241245</td>\n",
              "      <td>01:50</td>\n",
              "    </tr>\n",
              "    <tr>\n",
              "      <td>1</td>\n",
              "      <td>0.959542</td>\n",
              "      <td>0.696552</td>\n",
              "      <td>0.276265</td>\n",
              "      <td>01:49</td>\n",
              "    </tr>\n",
              "    <tr>\n",
              "      <td>2</td>\n",
              "      <td>0.862427</td>\n",
              "      <td>0.657228</td>\n",
              "      <td>0.225681</td>\n",
              "      <td>01:49</td>\n",
              "    </tr>\n",
              "    <tr>\n",
              "      <td>3</td>\n",
              "      <td>0.723155</td>\n",
              "      <td>0.536869</td>\n",
              "      <td>0.229572</td>\n",
              "      <td>01:49</td>\n",
              "    </tr>\n",
              "    <tr>\n",
              "      <td>4</td>\n",
              "      <td>0.659391</td>\n",
              "      <td>0.559913</td>\n",
              "      <td>0.245136</td>\n",
              "      <td>01:49</td>\n",
              "    </tr>\n",
              "    <tr>\n",
              "      <td>5</td>\n",
              "      <td>0.537191</td>\n",
              "      <td>0.556144</td>\n",
              "      <td>0.237354</td>\n",
              "      <td>01:50</td>\n",
              "    </tr>\n",
              "    <tr>\n",
              "      <td>6</td>\n",
              "      <td>0.498733</td>\n",
              "      <td>0.551070</td>\n",
              "      <td>0.237354</td>\n",
              "      <td>01:49</td>\n",
              "    </tr>\n",
              "    <tr>\n",
              "      <td>7</td>\n",
              "      <td>0.338454</td>\n",
              "      <td>0.538543</td>\n",
              "      <td>0.194553</td>\n",
              "      <td>01:49</td>\n",
              "    </tr>\n",
              "    <tr>\n",
              "      <td>8</td>\n",
              "      <td>0.248562</td>\n",
              "      <td>0.506005</td>\n",
              "      <td>0.167315</td>\n",
              "      <td>01:49</td>\n",
              "    </tr>\n",
              "    <tr>\n",
              "      <td>9</td>\n",
              "      <td>0.227613</td>\n",
              "      <td>0.509806</td>\n",
              "      <td>0.190661</td>\n",
              "      <td>01:50</td>\n",
              "    </tr>\n",
              "  </tbody>\n",
              "</table>"
            ],
            "text/plain": [
              "<IPython.core.display.HTML object>"
            ]
          },
          "metadata": {
            "tags": []
          }
        },
        {
          "output_type": "stream",
          "text": [
            "\n",
            " `\n",
            " Start Validating ....\n"
          ],
          "name": "stdout"
        },
        {
          "output_type": "display_data",
          "data": {
            "text/html": [
              ""
            ],
            "text/plain": [
              "<IPython.core.display.HTML object>"
            ]
          },
          "metadata": {
            "tags": []
          }
        },
        {
          "output_type": "stream",
          "text": [
            "VALIDATION RMSE FOR FOLD : 3 ::: 0.4777971147261509\n",
            "\n",
            " `\n",
            " Start PREDICTING ....\n"
          ],
          "name": "stdout"
        },
        {
          "output_type": "display_data",
          "data": {
            "text/html": [
              ""
            ],
            "text/plain": [
              "<IPython.core.display.HTML object>"
            ]
          },
          "metadata": {
            "tags": []
          }
        },
        {
          "output_type": "stream",
          "text": [
            "        UID  growth_stage  ...  preds_FOLD_2  preds_FOLD_3\n",
            "0  F3LbWkZq             0  ...      4.532924      4.875077\n",
            "1  6P4wLVzI             0  ...      4.002102      3.994986\n",
            "2  Tn6HIrdS             0  ...      2.967512      2.989623\n",
            "3  EYM5R1TK             0  ...      4.001158      4.000443\n",
            "4  fkcevlA0             0  ...      5.233644      4.999037\n",
            "\n",
            "[5 rows x 6 columns]\n",
            "#########################  Fold 5/10  #########################\n",
            "\n",
            " `\n",
            " Start Training ....\n"
          ],
          "name": "stdout"
        },
        {
          "output_type": "display_data",
          "data": {
            "text/html": [
              "<table border=\"1\" class=\"dataframe\">\n",
              "  <thead>\n",
              "    <tr style=\"text-align: left;\">\n",
              "      <th>epoch</th>\n",
              "      <th>train_loss</th>\n",
              "      <th>valid_loss</th>\n",
              "      <th>error_rate</th>\n",
              "      <th>time</th>\n",
              "    </tr>\n",
              "  </thead>\n",
              "  <tbody>\n",
              "    <tr>\n",
              "      <td>0</td>\n",
              "      <td>1.359050</td>\n",
              "      <td>0.965265</td>\n",
              "      <td>0.319066</td>\n",
              "      <td>01:15</td>\n",
              "    </tr>\n",
              "  </tbody>\n",
              "</table>"
            ],
            "text/plain": [
              "<IPython.core.display.HTML object>"
            ]
          },
          "metadata": {
            "tags": []
          }
        },
        {
          "output_type": "display_data",
          "data": {
            "text/html": [
              "<table border=\"1\" class=\"dataframe\">\n",
              "  <thead>\n",
              "    <tr style=\"text-align: left;\">\n",
              "      <th>epoch</th>\n",
              "      <th>train_loss</th>\n",
              "      <th>valid_loss</th>\n",
              "      <th>error_rate</th>\n",
              "      <th>time</th>\n",
              "    </tr>\n",
              "  </thead>\n",
              "  <tbody>\n",
              "    <tr>\n",
              "      <td>0</td>\n",
              "      <td>0.971511</td>\n",
              "      <td>0.665127</td>\n",
              "      <td>0.241245</td>\n",
              "      <td>01:49</td>\n",
              "    </tr>\n",
              "    <tr>\n",
              "      <td>1</td>\n",
              "      <td>0.820731</td>\n",
              "      <td>0.896573</td>\n",
              "      <td>0.315175</td>\n",
              "      <td>01:50</td>\n",
              "    </tr>\n",
              "    <tr>\n",
              "      <td>2</td>\n",
              "      <td>0.873738</td>\n",
              "      <td>0.801224</td>\n",
              "      <td>0.276265</td>\n",
              "      <td>01:49</td>\n",
              "    </tr>\n",
              "    <tr>\n",
              "      <td>3</td>\n",
              "      <td>0.754237</td>\n",
              "      <td>0.673653</td>\n",
              "      <td>0.237354</td>\n",
              "      <td>01:49</td>\n",
              "    </tr>\n",
              "    <tr>\n",
              "      <td>4</td>\n",
              "      <td>0.699543</td>\n",
              "      <td>0.596685</td>\n",
              "      <td>0.229572</td>\n",
              "      <td>01:49</td>\n",
              "    </tr>\n",
              "    <tr>\n",
              "      <td>5</td>\n",
              "      <td>0.582304</td>\n",
              "      <td>0.606689</td>\n",
              "      <td>0.206226</td>\n",
              "      <td>01:49</td>\n",
              "    </tr>\n",
              "    <tr>\n",
              "      <td>6</td>\n",
              "      <td>0.441955</td>\n",
              "      <td>0.584968</td>\n",
              "      <td>0.214008</td>\n",
              "      <td>01:49</td>\n",
              "    </tr>\n",
              "    <tr>\n",
              "      <td>7</td>\n",
              "      <td>0.374723</td>\n",
              "      <td>0.553061</td>\n",
              "      <td>0.186770</td>\n",
              "      <td>01:49</td>\n",
              "    </tr>\n",
              "    <tr>\n",
              "      <td>8</td>\n",
              "      <td>0.246527</td>\n",
              "      <td>0.572191</td>\n",
              "      <td>0.202335</td>\n",
              "      <td>01:49</td>\n",
              "    </tr>\n",
              "    <tr>\n",
              "      <td>9</td>\n",
              "      <td>0.257439</td>\n",
              "      <td>0.551783</td>\n",
              "      <td>0.194553</td>\n",
              "      <td>01:49</td>\n",
              "    </tr>\n",
              "  </tbody>\n",
              "</table>"
            ],
            "text/plain": [
              "<IPython.core.display.HTML object>"
            ]
          },
          "metadata": {
            "tags": []
          }
        },
        {
          "output_type": "stream",
          "text": [
            "\n",
            " `\n",
            " Start Validating ....\n"
          ],
          "name": "stdout"
        },
        {
          "output_type": "display_data",
          "data": {
            "text/html": [
              ""
            ],
            "text/plain": [
              "<IPython.core.display.HTML object>"
            ]
          },
          "metadata": {
            "tags": []
          }
        },
        {
          "output_type": "stream",
          "text": [
            "VALIDATION RMSE FOR FOLD : 4 ::: 0.4486336774194773\n",
            "\n",
            " `\n",
            " Start PREDICTING ....\n"
          ],
          "name": "stdout"
        },
        {
          "output_type": "display_data",
          "data": {
            "text/html": [
              ""
            ],
            "text/plain": [
              "<IPython.core.display.HTML object>"
            ]
          },
          "metadata": {
            "tags": []
          }
        },
        {
          "output_type": "stream",
          "text": [
            "        UID  growth_stage  ...  preds_FOLD_3  preds_FOLD_4\n",
            "0  F3LbWkZq             0  ...      4.875077      5.105856\n",
            "1  6P4wLVzI             0  ...      3.994986      3.997489\n",
            "2  Tn6HIrdS             0  ...      2.989623      2.979573\n",
            "3  EYM5R1TK             0  ...      4.000443      4.000209\n",
            "4  fkcevlA0             0  ...      4.999037      5.094576\n",
            "\n",
            "[5 rows x 7 columns]\n",
            "#########################  Fold 6/10  #########################\n",
            "\n",
            " `\n",
            " Start Training ....\n"
          ],
          "name": "stdout"
        },
        {
          "output_type": "display_data",
          "data": {
            "text/html": [
              "<table border=\"1\" class=\"dataframe\">\n",
              "  <thead>\n",
              "    <tr style=\"text-align: left;\">\n",
              "      <th>epoch</th>\n",
              "      <th>train_loss</th>\n",
              "      <th>valid_loss</th>\n",
              "      <th>error_rate</th>\n",
              "      <th>time</th>\n",
              "    </tr>\n",
              "  </thead>\n",
              "  <tbody>\n",
              "    <tr>\n",
              "      <td>0</td>\n",
              "      <td>1.367484</td>\n",
              "      <td>0.843963</td>\n",
              "      <td>0.291829</td>\n",
              "      <td>01:15</td>\n",
              "    </tr>\n",
              "  </tbody>\n",
              "</table>"
            ],
            "text/plain": [
              "<IPython.core.display.HTML object>"
            ]
          },
          "metadata": {
            "tags": []
          }
        },
        {
          "output_type": "display_data",
          "data": {
            "text/html": [
              "<table border=\"1\" class=\"dataframe\">\n",
              "  <thead>\n",
              "    <tr style=\"text-align: left;\">\n",
              "      <th>epoch</th>\n",
              "      <th>train_loss</th>\n",
              "      <th>valid_loss</th>\n",
              "      <th>error_rate</th>\n",
              "      <th>time</th>\n",
              "    </tr>\n",
              "  </thead>\n",
              "  <tbody>\n",
              "    <tr>\n",
              "      <td>0</td>\n",
              "      <td>0.926426</td>\n",
              "      <td>0.491859</td>\n",
              "      <td>0.186770</td>\n",
              "      <td>01:49</td>\n",
              "    </tr>\n",
              "    <tr>\n",
              "      <td>1</td>\n",
              "      <td>0.844083</td>\n",
              "      <td>0.690570</td>\n",
              "      <td>0.249027</td>\n",
              "      <td>01:50</td>\n",
              "    </tr>\n",
              "    <tr>\n",
              "      <td>2</td>\n",
              "      <td>0.926878</td>\n",
              "      <td>0.506401</td>\n",
              "      <td>0.182879</td>\n",
              "      <td>01:49</td>\n",
              "    </tr>\n",
              "    <tr>\n",
              "      <td>3</td>\n",
              "      <td>0.727158</td>\n",
              "      <td>0.504463</td>\n",
              "      <td>0.198444</td>\n",
              "      <td>01:49</td>\n",
              "    </tr>\n",
              "    <tr>\n",
              "      <td>4</td>\n",
              "      <td>0.678003</td>\n",
              "      <td>0.581803</td>\n",
              "      <td>0.221790</td>\n",
              "      <td>01:49</td>\n",
              "    </tr>\n",
              "    <tr>\n",
              "      <td>5</td>\n",
              "      <td>0.587496</td>\n",
              "      <td>0.520132</td>\n",
              "      <td>0.190661</td>\n",
              "      <td>01:49</td>\n",
              "    </tr>\n",
              "    <tr>\n",
              "      <td>6</td>\n",
              "      <td>0.452941</td>\n",
              "      <td>0.462393</td>\n",
              "      <td>0.155642</td>\n",
              "      <td>01:49</td>\n",
              "    </tr>\n",
              "    <tr>\n",
              "      <td>7</td>\n",
              "      <td>0.322477</td>\n",
              "      <td>0.515542</td>\n",
              "      <td>0.182879</td>\n",
              "      <td>01:50</td>\n",
              "    </tr>\n",
              "    <tr>\n",
              "      <td>8</td>\n",
              "      <td>0.247089</td>\n",
              "      <td>0.452447</td>\n",
              "      <td>0.143969</td>\n",
              "      <td>01:50</td>\n",
              "    </tr>\n",
              "    <tr>\n",
              "      <td>9</td>\n",
              "      <td>0.214111</td>\n",
              "      <td>0.440464</td>\n",
              "      <td>0.155642</td>\n",
              "      <td>01:50</td>\n",
              "    </tr>\n",
              "  </tbody>\n",
              "</table>"
            ],
            "text/plain": [
              "<IPython.core.display.HTML object>"
            ]
          },
          "metadata": {
            "tags": []
          }
        },
        {
          "output_type": "stream",
          "text": [
            "\n",
            " `\n",
            " Start Validating ....\n"
          ],
          "name": "stdout"
        },
        {
          "output_type": "display_data",
          "data": {
            "text/html": [
              ""
            ],
            "text/plain": [
              "<IPython.core.display.HTML object>"
            ]
          },
          "metadata": {
            "tags": []
          }
        },
        {
          "output_type": "stream",
          "text": [
            "VALIDATION RMSE FOR FOLD : 5 ::: 0.47154424596818423\n",
            "\n",
            " `\n",
            " Start PREDICTING ....\n"
          ],
          "name": "stdout"
        },
        {
          "output_type": "display_data",
          "data": {
            "text/html": [
              ""
            ],
            "text/plain": [
              "<IPython.core.display.HTML object>"
            ]
          },
          "metadata": {
            "tags": []
          }
        },
        {
          "output_type": "stream",
          "text": [
            "        UID  growth_stage  ...  preds_FOLD_4  preds_FOLD_5\n",
            "0  F3LbWkZq             0  ...      5.105856      4.833244\n",
            "1  6P4wLVzI             0  ...      3.997489      4.002416\n",
            "2  Tn6HIrdS             0  ...      2.979573      2.971981\n",
            "3  EYM5R1TK             0  ...      4.000209      4.006758\n",
            "4  fkcevlA0             0  ...      5.094576      4.929085\n",
            "\n",
            "[5 rows x 8 columns]\n",
            "#########################  Fold 7/10  #########################\n",
            "\n",
            " `\n",
            " Start Training ....\n"
          ],
          "name": "stdout"
        },
        {
          "output_type": "display_data",
          "data": {
            "text/html": [
              "<table border=\"1\" class=\"dataframe\">\n",
              "  <thead>\n",
              "    <tr style=\"text-align: left;\">\n",
              "      <th>epoch</th>\n",
              "      <th>train_loss</th>\n",
              "      <th>valid_loss</th>\n",
              "      <th>error_rate</th>\n",
              "      <th>time</th>\n",
              "    </tr>\n",
              "  </thead>\n",
              "  <tbody>\n",
              "    <tr>\n",
              "      <td>0</td>\n",
              "      <td>1.379821</td>\n",
              "      <td>0.959030</td>\n",
              "      <td>0.326848</td>\n",
              "      <td>01:15</td>\n",
              "    </tr>\n",
              "  </tbody>\n",
              "</table>"
            ],
            "text/plain": [
              "<IPython.core.display.HTML object>"
            ]
          },
          "metadata": {
            "tags": []
          }
        },
        {
          "output_type": "display_data",
          "data": {
            "text/html": [
              "<table border=\"1\" class=\"dataframe\">\n",
              "  <thead>\n",
              "    <tr style=\"text-align: left;\">\n",
              "      <th>epoch</th>\n",
              "      <th>train_loss</th>\n",
              "      <th>valid_loss</th>\n",
              "      <th>error_rate</th>\n",
              "      <th>time</th>\n",
              "    </tr>\n",
              "  </thead>\n",
              "  <tbody>\n",
              "    <tr>\n",
              "      <td>0</td>\n",
              "      <td>0.841678</td>\n",
              "      <td>0.685498</td>\n",
              "      <td>0.225681</td>\n",
              "      <td>01:50</td>\n",
              "    </tr>\n",
              "    <tr>\n",
              "      <td>1</td>\n",
              "      <td>0.911035</td>\n",
              "      <td>0.950211</td>\n",
              "      <td>0.334630</td>\n",
              "      <td>01:50</td>\n",
              "    </tr>\n",
              "    <tr>\n",
              "      <td>2</td>\n",
              "      <td>0.815634</td>\n",
              "      <td>0.807188</td>\n",
              "      <td>0.264591</td>\n",
              "      <td>01:50</td>\n",
              "    </tr>\n",
              "    <tr>\n",
              "      <td>3</td>\n",
              "      <td>0.728686</td>\n",
              "      <td>0.688708</td>\n",
              "      <td>0.245136</td>\n",
              "      <td>01:50</td>\n",
              "    </tr>\n",
              "    <tr>\n",
              "      <td>4</td>\n",
              "      <td>0.689834</td>\n",
              "      <td>0.652209</td>\n",
              "      <td>0.229572</td>\n",
              "      <td>01:50</td>\n",
              "    </tr>\n",
              "    <tr>\n",
              "      <td>5</td>\n",
              "      <td>0.518657</td>\n",
              "      <td>0.627424</td>\n",
              "      <td>0.221790</td>\n",
              "      <td>01:50</td>\n",
              "    </tr>\n",
              "    <tr>\n",
              "      <td>6</td>\n",
              "      <td>0.449899</td>\n",
              "      <td>0.495236</td>\n",
              "      <td>0.186770</td>\n",
              "      <td>01:50</td>\n",
              "    </tr>\n",
              "    <tr>\n",
              "      <td>7</td>\n",
              "      <td>0.362164</td>\n",
              "      <td>0.496629</td>\n",
              "      <td>0.194553</td>\n",
              "      <td>01:50</td>\n",
              "    </tr>\n",
              "    <tr>\n",
              "      <td>8</td>\n",
              "      <td>0.286481</td>\n",
              "      <td>0.479154</td>\n",
              "      <td>0.171206</td>\n",
              "      <td>01:50</td>\n",
              "    </tr>\n",
              "    <tr>\n",
              "      <td>9</td>\n",
              "      <td>0.279488</td>\n",
              "      <td>0.491779</td>\n",
              "      <td>0.190661</td>\n",
              "      <td>01:50</td>\n",
              "    </tr>\n",
              "  </tbody>\n",
              "</table>"
            ],
            "text/plain": [
              "<IPython.core.display.HTML object>"
            ]
          },
          "metadata": {
            "tags": []
          }
        },
        {
          "output_type": "stream",
          "text": [
            "\n",
            " `\n",
            " Start Validating ....\n"
          ],
          "name": "stdout"
        },
        {
          "output_type": "display_data",
          "data": {
            "text/html": [
              ""
            ],
            "text/plain": [
              "<IPython.core.display.HTML object>"
            ]
          },
          "metadata": {
            "tags": []
          }
        },
        {
          "output_type": "stream",
          "text": [
            "VALIDATION RMSE FOR FOLD : 6 ::: 0.4674996357476332\n",
            "\n",
            " `\n",
            " Start PREDICTING ....\n"
          ],
          "name": "stdout"
        },
        {
          "output_type": "display_data",
          "data": {
            "text/html": [
              ""
            ],
            "text/plain": [
              "<IPython.core.display.HTML object>"
            ]
          },
          "metadata": {
            "tags": []
          }
        },
        {
          "output_type": "stream",
          "text": [
            "        UID  growth_stage  ...  preds_FOLD_5  preds_FOLD_6\n",
            "0  F3LbWkZq             0  ...      4.833244      4.122838\n",
            "1  6P4wLVzI             0  ...      4.002416      3.997063\n",
            "2  Tn6HIrdS             0  ...      2.971981      2.969942\n",
            "3  EYM5R1TK             0  ...      4.006758      4.002001\n",
            "4  fkcevlA0             0  ...      4.929085      4.670295\n",
            "\n",
            "[5 rows x 9 columns]\n",
            "#########################  Fold 8/10  #########################\n",
            "\n",
            " `\n",
            " Start Training ....\n"
          ],
          "name": "stdout"
        },
        {
          "output_type": "display_data",
          "data": {
            "text/html": [
              "<table border=\"1\" class=\"dataframe\">\n",
              "  <thead>\n",
              "    <tr style=\"text-align: left;\">\n",
              "      <th>epoch</th>\n",
              "      <th>train_loss</th>\n",
              "      <th>valid_loss</th>\n",
              "      <th>error_rate</th>\n",
              "      <th>time</th>\n",
              "    </tr>\n",
              "  </thead>\n",
              "  <tbody>\n",
              "    <tr>\n",
              "      <td>0</td>\n",
              "      <td>1.290656</td>\n",
              "      <td>1.072369</td>\n",
              "      <td>0.319066</td>\n",
              "      <td>01:15</td>\n",
              "    </tr>\n",
              "  </tbody>\n",
              "</table>"
            ],
            "text/plain": [
              "<IPython.core.display.HTML object>"
            ]
          },
          "metadata": {
            "tags": []
          }
        },
        {
          "output_type": "display_data",
          "data": {
            "text/html": [
              "<table border=\"1\" class=\"dataframe\">\n",
              "  <thead>\n",
              "    <tr style=\"text-align: left;\">\n",
              "      <th>epoch</th>\n",
              "      <th>train_loss</th>\n",
              "      <th>valid_loss</th>\n",
              "      <th>error_rate</th>\n",
              "      <th>time</th>\n",
              "    </tr>\n",
              "  </thead>\n",
              "  <tbody>\n",
              "    <tr>\n",
              "      <td>0</td>\n",
              "      <td>0.895205</td>\n",
              "      <td>0.571724</td>\n",
              "      <td>0.245136</td>\n",
              "      <td>01:50</td>\n",
              "    </tr>\n",
              "    <tr>\n",
              "      <td>1</td>\n",
              "      <td>0.883175</td>\n",
              "      <td>0.745641</td>\n",
              "      <td>0.307393</td>\n",
              "      <td>01:50</td>\n",
              "    </tr>\n",
              "    <tr>\n",
              "      <td>2</td>\n",
              "      <td>0.840271</td>\n",
              "      <td>0.506902</td>\n",
              "      <td>0.206226</td>\n",
              "      <td>01:50</td>\n",
              "    </tr>\n",
              "    <tr>\n",
              "      <td>3</td>\n",
              "      <td>0.755199</td>\n",
              "      <td>0.532573</td>\n",
              "      <td>0.214008</td>\n",
              "      <td>01:50</td>\n",
              "    </tr>\n",
              "    <tr>\n",
              "      <td>4</td>\n",
              "      <td>0.658920</td>\n",
              "      <td>0.546364</td>\n",
              "      <td>0.233463</td>\n",
              "      <td>01:50</td>\n",
              "    </tr>\n",
              "    <tr>\n",
              "      <td>5</td>\n",
              "      <td>0.548687</td>\n",
              "      <td>0.495302</td>\n",
              "      <td>0.221790</td>\n",
              "      <td>01:50</td>\n",
              "    </tr>\n",
              "    <tr>\n",
              "      <td>6</td>\n",
              "      <td>0.453555</td>\n",
              "      <td>0.519970</td>\n",
              "      <td>0.214008</td>\n",
              "      <td>01:50</td>\n",
              "    </tr>\n",
              "    <tr>\n",
              "      <td>7</td>\n",
              "      <td>0.369720</td>\n",
              "      <td>0.500913</td>\n",
              "      <td>0.186770</td>\n",
              "      <td>01:50</td>\n",
              "    </tr>\n",
              "    <tr>\n",
              "      <td>8</td>\n",
              "      <td>0.257026</td>\n",
              "      <td>0.432183</td>\n",
              "      <td>0.175097</td>\n",
              "      <td>01:50</td>\n",
              "    </tr>\n",
              "    <tr>\n",
              "      <td>9</td>\n",
              "      <td>0.267033</td>\n",
              "      <td>0.468817</td>\n",
              "      <td>0.198444</td>\n",
              "      <td>01:50</td>\n",
              "    </tr>\n",
              "  </tbody>\n",
              "</table>"
            ],
            "text/plain": [
              "<IPython.core.display.HTML object>"
            ]
          },
          "metadata": {
            "tags": []
          }
        },
        {
          "output_type": "stream",
          "text": [
            "\n",
            " `\n",
            " Start Validating ....\n"
          ],
          "name": "stdout"
        },
        {
          "output_type": "display_data",
          "data": {
            "text/html": [
              ""
            ],
            "text/plain": [
              "<IPython.core.display.HTML object>"
            ]
          },
          "metadata": {
            "tags": []
          }
        },
        {
          "output_type": "stream",
          "text": [
            "VALIDATION RMSE FOR FOLD : 7 ::: 0.5570885934494358\n",
            "\n",
            " `\n",
            " Start PREDICTING ....\n"
          ],
          "name": "stdout"
        },
        {
          "output_type": "display_data",
          "data": {
            "text/html": [
              ""
            ],
            "text/plain": [
              "<IPython.core.display.HTML object>"
            ]
          },
          "metadata": {
            "tags": []
          }
        },
        {
          "output_type": "stream",
          "text": [
            "        UID  growth_stage  ...  preds_FOLD_6  preds_FOLD_7\n",
            "0  F3LbWkZq             0  ...      4.122838      4.516388\n",
            "1  6P4wLVzI             0  ...      3.997063      3.790640\n",
            "2  Tn6HIrdS             0  ...      2.969942      2.977098\n",
            "3  EYM5R1TK             0  ...      4.002001      4.002215\n",
            "4  fkcevlA0             0  ...      4.670295      5.340066\n",
            "\n",
            "[5 rows x 10 columns]\n",
            "#########################  Fold 9/10  #########################\n",
            "\n",
            " `\n",
            " Start Training ....\n"
          ],
          "name": "stdout"
        },
        {
          "output_type": "display_data",
          "data": {
            "text/html": [
              "<table border=\"1\" class=\"dataframe\">\n",
              "  <thead>\n",
              "    <tr style=\"text-align: left;\">\n",
              "      <th>epoch</th>\n",
              "      <th>train_loss</th>\n",
              "      <th>valid_loss</th>\n",
              "      <th>error_rate</th>\n",
              "      <th>time</th>\n",
              "    </tr>\n",
              "  </thead>\n",
              "  <tbody>\n",
              "    <tr>\n",
              "      <td>0</td>\n",
              "      <td>1.386689</td>\n",
              "      <td>0.942322</td>\n",
              "      <td>0.276265</td>\n",
              "      <td>01:15</td>\n",
              "    </tr>\n",
              "  </tbody>\n",
              "</table>"
            ],
            "text/plain": [
              "<IPython.core.display.HTML object>"
            ]
          },
          "metadata": {
            "tags": []
          }
        },
        {
          "output_type": "display_data",
          "data": {
            "text/html": [
              "<table border=\"1\" class=\"dataframe\">\n",
              "  <thead>\n",
              "    <tr style=\"text-align: left;\">\n",
              "      <th>epoch</th>\n",
              "      <th>train_loss</th>\n",
              "      <th>valid_loss</th>\n",
              "      <th>error_rate</th>\n",
              "      <th>time</th>\n",
              "    </tr>\n",
              "  </thead>\n",
              "  <tbody>\n",
              "    <tr>\n",
              "      <td>0</td>\n",
              "      <td>0.981782</td>\n",
              "      <td>0.609536</td>\n",
              "      <td>0.221790</td>\n",
              "      <td>01:50</td>\n",
              "    </tr>\n",
              "    <tr>\n",
              "      <td>1</td>\n",
              "      <td>1.086925</td>\n",
              "      <td>0.640707</td>\n",
              "      <td>0.241245</td>\n",
              "      <td>01:50</td>\n",
              "    </tr>\n",
              "    <tr>\n",
              "      <td>2</td>\n",
              "      <td>0.790970</td>\n",
              "      <td>0.605724</td>\n",
              "      <td>0.217899</td>\n",
              "      <td>01:50</td>\n",
              "    </tr>\n",
              "    <tr>\n",
              "      <td>3</td>\n",
              "      <td>0.789652</td>\n",
              "      <td>0.714779</td>\n",
              "      <td>0.249027</td>\n",
              "      <td>01:50</td>\n",
              "    </tr>\n",
              "    <tr>\n",
              "      <td>4</td>\n",
              "      <td>0.675977</td>\n",
              "      <td>0.492278</td>\n",
              "      <td>0.194553</td>\n",
              "      <td>01:50</td>\n",
              "    </tr>\n",
              "    <tr>\n",
              "      <td>5</td>\n",
              "      <td>0.542449</td>\n",
              "      <td>0.501482</td>\n",
              "      <td>0.190661</td>\n",
              "      <td>01:50</td>\n",
              "    </tr>\n",
              "    <tr>\n",
              "      <td>6</td>\n",
              "      <td>0.436486</td>\n",
              "      <td>0.414307</td>\n",
              "      <td>0.151751</td>\n",
              "      <td>01:50</td>\n",
              "    </tr>\n",
              "    <tr>\n",
              "      <td>7</td>\n",
              "      <td>0.322636</td>\n",
              "      <td>0.383216</td>\n",
              "      <td>0.151751</td>\n",
              "      <td>01:50</td>\n",
              "    </tr>\n",
              "    <tr>\n",
              "      <td>8</td>\n",
              "      <td>0.272148</td>\n",
              "      <td>0.391660</td>\n",
              "      <td>0.155642</td>\n",
              "      <td>01:50</td>\n",
              "    </tr>\n",
              "    <tr>\n",
              "      <td>9</td>\n",
              "      <td>0.226473</td>\n",
              "      <td>0.387355</td>\n",
              "      <td>0.159533</td>\n",
              "      <td>01:50</td>\n",
              "    </tr>\n",
              "  </tbody>\n",
              "</table>"
            ],
            "text/plain": [
              "<IPython.core.display.HTML object>"
            ]
          },
          "metadata": {
            "tags": []
          }
        },
        {
          "output_type": "stream",
          "text": [
            "\n",
            " `\n",
            " Start Validating ....\n"
          ],
          "name": "stdout"
        },
        {
          "output_type": "display_data",
          "data": {
            "text/html": [
              ""
            ],
            "text/plain": [
              "<IPython.core.display.HTML object>"
            ]
          },
          "metadata": {
            "tags": []
          }
        },
        {
          "output_type": "stream",
          "text": [
            "VALIDATION RMSE FOR FOLD : 8 ::: 0.5461720322582748\n",
            "\n",
            " `\n",
            " Start PREDICTING ....\n"
          ],
          "name": "stdout"
        },
        {
          "output_type": "display_data",
          "data": {
            "text/html": [
              ""
            ],
            "text/plain": [
              "<IPython.core.display.HTML object>"
            ]
          },
          "metadata": {
            "tags": []
          }
        },
        {
          "output_type": "stream",
          "text": [
            "        UID  growth_stage  ...  preds_FOLD_7  preds_FOLD_8\n",
            "0  F3LbWkZq             0  ...      4.516388      4.411398\n",
            "1  6P4wLVzI             0  ...      3.790640      3.989935\n",
            "2  Tn6HIrdS             0  ...      2.977098      2.904953\n",
            "3  EYM5R1TK             0  ...      4.002215      3.996132\n",
            "4  fkcevlA0             0  ...      5.340066      5.590724\n",
            "\n",
            "[5 rows x 11 columns]\n",
            "#########################  Fold 10/10  #########################\n",
            "\n",
            " `\n",
            " Start Training ....\n"
          ],
          "name": "stdout"
        },
        {
          "output_type": "display_data",
          "data": {
            "text/html": [
              "<table border=\"1\" class=\"dataframe\">\n",
              "  <thead>\n",
              "    <tr style=\"text-align: left;\">\n",
              "      <th>epoch</th>\n",
              "      <th>train_loss</th>\n",
              "      <th>valid_loss</th>\n",
              "      <th>error_rate</th>\n",
              "      <th>time</th>\n",
              "    </tr>\n",
              "  </thead>\n",
              "  <tbody>\n",
              "    <tr>\n",
              "      <td>0</td>\n",
              "      <td>1.296401</td>\n",
              "      <td>0.977457</td>\n",
              "      <td>0.295720</td>\n",
              "      <td>01:15</td>\n",
              "    </tr>\n",
              "  </tbody>\n",
              "</table>"
            ],
            "text/plain": [
              "<IPython.core.display.HTML object>"
            ]
          },
          "metadata": {
            "tags": []
          }
        },
        {
          "output_type": "display_data",
          "data": {
            "text/html": [
              "<table border=\"1\" class=\"dataframe\">\n",
              "  <thead>\n",
              "    <tr style=\"text-align: left;\">\n",
              "      <th>epoch</th>\n",
              "      <th>train_loss</th>\n",
              "      <th>valid_loss</th>\n",
              "      <th>error_rate</th>\n",
              "      <th>time</th>\n",
              "    </tr>\n",
              "  </thead>\n",
              "  <tbody>\n",
              "    <tr>\n",
              "      <td>0</td>\n",
              "      <td>0.848762</td>\n",
              "      <td>0.796042</td>\n",
              "      <td>0.264591</td>\n",
              "      <td>01:50</td>\n",
              "    </tr>\n",
              "    <tr>\n",
              "      <td>1</td>\n",
              "      <td>0.919077</td>\n",
              "      <td>0.711049</td>\n",
              "      <td>0.307393</td>\n",
              "      <td>01:50</td>\n",
              "    </tr>\n",
              "    <tr>\n",
              "      <td>2</td>\n",
              "      <td>0.820296</td>\n",
              "      <td>0.618430</td>\n",
              "      <td>0.237354</td>\n",
              "      <td>01:50</td>\n",
              "    </tr>\n",
              "    <tr>\n",
              "      <td>3</td>\n",
              "      <td>0.684609</td>\n",
              "      <td>0.633923</td>\n",
              "      <td>0.245136</td>\n",
              "      <td>01:50</td>\n",
              "    </tr>\n",
              "    <tr>\n",
              "      <td>4</td>\n",
              "      <td>0.640363</td>\n",
              "      <td>0.627702</td>\n",
              "      <td>0.206226</td>\n",
              "      <td>01:50</td>\n",
              "    </tr>\n",
              "    <tr>\n",
              "      <td>5</td>\n",
              "      <td>0.576997</td>\n",
              "      <td>0.630845</td>\n",
              "      <td>0.229572</td>\n",
              "      <td>01:50</td>\n",
              "    </tr>\n",
              "    <tr>\n",
              "      <td>6</td>\n",
              "      <td>0.471374</td>\n",
              "      <td>0.609263</td>\n",
              "      <td>0.221790</td>\n",
              "      <td>01:50</td>\n",
              "    </tr>\n",
              "    <tr>\n",
              "      <td>7</td>\n",
              "      <td>0.292624</td>\n",
              "      <td>0.605144</td>\n",
              "      <td>0.198444</td>\n",
              "      <td>01:50</td>\n",
              "    </tr>\n",
              "    <tr>\n",
              "      <td>8</td>\n",
              "      <td>0.319851</td>\n",
              "      <td>0.552158</td>\n",
              "      <td>0.175097</td>\n",
              "      <td>01:50</td>\n",
              "    </tr>\n",
              "    <tr>\n",
              "      <td>9</td>\n",
              "      <td>0.221377</td>\n",
              "      <td>0.573271</td>\n",
              "      <td>0.178988</td>\n",
              "      <td>01:50</td>\n",
              "    </tr>\n",
              "  </tbody>\n",
              "</table>"
            ],
            "text/plain": [
              "<IPython.core.display.HTML object>"
            ]
          },
          "metadata": {
            "tags": []
          }
        },
        {
          "output_type": "stream",
          "text": [
            "\n",
            " `\n",
            " Start Validating ....\n"
          ],
          "name": "stdout"
        },
        {
          "output_type": "display_data",
          "data": {
            "text/html": [
              ""
            ],
            "text/plain": [
              "<IPython.core.display.HTML object>"
            ]
          },
          "metadata": {
            "tags": []
          }
        },
        {
          "output_type": "stream",
          "text": [
            "VALIDATION RMSE FOR FOLD : 9 ::: 0.5261931432685629\n",
            "\n",
            " `\n",
            " Start PREDICTING ....\n"
          ],
          "name": "stdout"
        },
        {
          "output_type": "display_data",
          "data": {
            "text/html": [
              ""
            ],
            "text/plain": [
              "<IPython.core.display.HTML object>"
            ]
          },
          "metadata": {
            "tags": []
          }
        },
        {
          "output_type": "stream",
          "text": [
            "        UID  growth_stage  ...  preds_FOLD_8  preds_FOLD_9\n",
            "0  F3LbWkZq             0  ...      4.411398      4.767238\n",
            "1  6P4wLVzI             0  ...      3.989935      3.982632\n",
            "2  Tn6HIrdS             0  ...      2.904953      2.997719\n",
            "3  EYM5R1TK             0  ...      3.996132      4.001278\n",
            "4  fkcevlA0             0  ...      5.590724      5.059136\n",
            "\n",
            "[5 rows x 12 columns]\n"
          ],
          "name": "stdout"
        }
      ]
    },
    {
      "cell_type": "code",
      "metadata": {
        "id": "N8GBB2PVwEbn"
      },
      "source": [
        "ss = pd.read_csv('SampleSubmission.csv')\n",
        "ss['growth_stage'] = submission.iloc[:,2:].mean(axis=1)"
      ],
      "execution_count": 18,
      "outputs": []
    },
    {
      "cell_type": "code",
      "metadata": {
        "id": "mVcHu0EdOC6a",
        "outputId": "2507ff10-aa1d-44f9-ea91-4019369d18f5",
        "colab": {
          "base_uri": "https://localhost:8080/",
          "height": 198
        }
      },
      "source": [
        "ss.head()"
      ],
      "execution_count": 19,
      "outputs": [
        {
          "output_type": "execute_result",
          "data": {
            "text/html": [
              "<div>\n",
              "<style scoped>\n",
              "    .dataframe tbody tr th:only-of-type {\n",
              "        vertical-align: middle;\n",
              "    }\n",
              "\n",
              "    .dataframe tbody tr th {\n",
              "        vertical-align: top;\n",
              "    }\n",
              "\n",
              "    .dataframe thead th {\n",
              "        text-align: right;\n",
              "    }\n",
              "</style>\n",
              "<table border=\"1\" class=\"dataframe\">\n",
              "  <thead>\n",
              "    <tr style=\"text-align: right;\">\n",
              "      <th></th>\n",
              "      <th>UID</th>\n",
              "      <th>growth_stage</th>\n",
              "    </tr>\n",
              "  </thead>\n",
              "  <tbody>\n",
              "    <tr>\n",
              "      <th>0</th>\n",
              "      <td>F3LbWkZq</td>\n",
              "      <td>4.618943</td>\n",
              "    </tr>\n",
              "    <tr>\n",
              "      <th>1</th>\n",
              "      <td>6P4wLVzI</td>\n",
              "      <td>3.976987</td>\n",
              "    </tr>\n",
              "    <tr>\n",
              "      <th>2</th>\n",
              "      <td>Tn6HIrdS</td>\n",
              "      <td>2.974131</td>\n",
              "    </tr>\n",
              "    <tr>\n",
              "      <th>3</th>\n",
              "      <td>EYM5R1TK</td>\n",
              "      <td>4.000678</td>\n",
              "    </tr>\n",
              "    <tr>\n",
              "      <th>4</th>\n",
              "      <td>fkcevlA0</td>\n",
              "      <td>5.049421</td>\n",
              "    </tr>\n",
              "  </tbody>\n",
              "</table>\n",
              "</div>"
            ],
            "text/plain": [
              "        UID  growth_stage\n",
              "0  F3LbWkZq      4.618943\n",
              "1  6P4wLVzI      3.976987\n",
              "2  Tn6HIrdS      2.974131\n",
              "3  EYM5R1TK      4.000678\n",
              "4  fkcevlA0      5.049421"
            ]
          },
          "metadata": {
            "tags": []
          },
          "execution_count": 19
        }
      ]
    },
    {
      "cell_type": "code",
      "metadata": {
        "id": "K86c5F34OD5X"
      },
      "source": [
        "ss.to_csv('densenet201_classif_FastaAI.csv',index=False)"
      ],
      "execution_count": 20,
      "outputs": []
    }
  ]
}