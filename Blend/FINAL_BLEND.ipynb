{
  "nbformat": 4,
  "nbformat_minor": 0,
  "metadata": {
    "colab": {
      "name": "FINAL-BLEND",
      "provenance": [],
      "collapsed_sections": []
    },
    "kernelspec": {
      "name": "python3",
      "display_name": "Python 3"
    }
  },
  "cells": [
    {
      "cell_type": "code",
      "metadata": {
        "id": "rvmcbfjYe4RD"
      },
      "source": [
        "import pandas as pd\n",
        "import numpy as np"
      ],
      "execution_count": null,
      "outputs": []
    },
    {
      "cell_type": "markdown",
      "metadata": {
        "id": "-9eLHjhse8sw"
      },
      "source": [
        "# **regression-FASTAI**"
      ]
    },
    {
      "cell_type": "code",
      "metadata": {
        "id": "KEn1dap0e7or"
      },
      "source": [
        "sub_regression_densenet201_fastai = pd.read_csv('ZION_notebook_densenet201_BS40_size200_350_max_ligh_0.9_max_zoom_1.5_magnitude_0.5.csv')\n",
        "sub_regression_vgg16_bn_fastai = pd.read_csv('vgg16_bn_regression_FastAI.csv')"
      ],
      "execution_count": null,
      "outputs": []
    },
    {
      "cell_type": "code",
      "metadata": {
        "id": "8W4uzuIwfYpB"
      },
      "source": [
        "blend_fastai_regression = sub_regression_densenet201_fastai.copy()\n",
        "blend_fastai_regression['growth_stage'] = np.clip(sub_regression_densenet201_fastai['growth_stage']*0.37 +sub_regression_vgg16_bn_fastai['growth_stage']*0.63 ,a_min=1,a_max=7) "
      ],
      "execution_count": null,
      "outputs": []
    },
    {
      "cell_type": "markdown",
      "metadata": {
        "id": "VOkEltRsgHGB"
      },
      "source": [
        "# **classification-FASTAI**"
      ]
    },
    {
      "cell_type": "code",
      "metadata": {
        "id": "QQK8QNNJf3RJ"
      },
      "source": [
        "sub_classif_densenet201_fastai = pd.read_csv('densenet201_classif_FastaAI.csv')\n",
        "sub_classif_resnet152_fastai = pd.read_csv('resnet152_classif_FastAI.csv')"
      ],
      "execution_count": null,
      "outputs": []
    },
    {
      "cell_type": "code",
      "metadata": {
        "id": "7GxT0My1geG8"
      },
      "source": [
        "blend_fastai_classif = sub_classif_resnet152_fastai.copy()\n",
        "blend_fastai_classif['growth_stage'] = sub_classif_densenet201_fastai['growth_stage']*0.7 +sub_classif_resnet152_fastai['growth_stage']*0.3"
      ],
      "execution_count": null,
      "outputs": []
    },
    {
      "cell_type": "markdown",
      "metadata": {
        "id": "X06SRa4NhNdp"
      },
      "source": [
        "# **regression-PYTORCH**"
      ]
    },
    {
      "cell_type": "code",
      "metadata": {
        "id": "3udOY-Gmg_hy"
      },
      "source": [
        "sub_resnext50_regression  = pd.read_csv('resnext50_regression_pytorch.csv')\n",
        "sub_resnext101_regression = pd.read_csv('final_seed_1_69_1919_20212020.csv')"
      ],
      "execution_count": null,
      "outputs": []
    },
    {
      "cell_type": "code",
      "metadata": {
        "id": "eDVqc8oShgcq"
      },
      "source": [
        "blend_pytorch_regression = sub_resnext50_regression.copy()\n",
        "blend_pytorch_regression['growth_stage'] = sub_resnext101_regression['growth_stage']*0.4 +sub_resnext50_regression['growth_stage']*0.6"
      ],
      "execution_count": null,
      "outputs": []
    },
    {
      "cell_type": "markdown",
      "metadata": {
        "id": "61IKRN834W7P"
      },
      "source": [
        "# **Classification-PYTORCH**"
      ]
    },
    {
      "cell_type": "code",
      "metadata": {
        "id": "LCQl_Mmw4W7R"
      },
      "source": [
        "sub_densenet169_classif = pd.read_csv('densenet169_Pytorch_Classif.csv')"
      ],
      "execution_count": null,
      "outputs": []
    },
    {
      "cell_type": "markdown",
      "metadata": {
        "id": "HSC8ZHW6iGa4"
      },
      "source": [
        "# **TOTAL**"
      ]
    },
    {
      "cell_type": "code",
      "metadata": {
        "id": "Ri7syz9xh8c6"
      },
      "source": [
        "FINAL = blend_pytorch_regression.copy()\n",
        "FINAL['growth_stage'] = blend_pytorch_regression['growth_stage']*0.4 + blend_fastai_regression['growth_stage']*0.15 + blend_fastai_classif['growth_stage']*0.35 + sub_densenet169_classif['growth_stage']*0.1"
      ],
      "execution_count": null,
      "outputs": []
    },
    {
      "cell_type": "code",
      "metadata": {
        "id": "8AnfdM0hjwt-"
      },
      "source": [
        "FINAL.to_csv('Final_Blend.csv',index=False)"
      ],
      "execution_count": null,
      "outputs": []
    }
  ]
}