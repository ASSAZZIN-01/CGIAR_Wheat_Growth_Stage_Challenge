{
  "nbformat": 4,
  "nbformat_minor": 0,
  "metadata": {
    "colab": {
      "name": "blend_seeds.ipynb",
      "provenance": []
    },
    "kernelspec": {
      "name": "python3",
      "display_name": "Python 3"
    }
  },
  "cells": [
    {
      "cell_type": "code",
      "metadata": {
        "id": "DuZFNQoU-528"
      },
      "source": [
        "import pandas as pd"
      ],
      "execution_count": 1,
      "outputs": []
    },
    {
      "cell_type": "code",
      "metadata": {
        "id": "eRI3i1Sr-98e"
      },
      "source": [
        "seed1 = pd.read_csv(\"resnext101_Pytorch_regression_seed_1.csv\") \n",
        "seed2 = pd.read_csv(\"resnext101_Pytorch_regression_seed_69.csv\")#\n",
        "seed3 = pd.read_csv(\"resnext101_Pytorch_regression_seed_1919.csv\")#\n",
        "seed4 = pd.read_csv(\"resnext101_Pytorch_regression_seed_20212020.csv\")#"
      ],
      "execution_count": null,
      "outputs": []
    },
    {
      "cell_type": "code",
      "metadata": {
        "id": "mtSxJFMd-_ji"
      },
      "source": [
        "fianl_seed = pd.read_csv('/content/SampleSubmission.csv')"
      ],
      "execution_count": null,
      "outputs": []
    },
    {
      "cell_type": "code",
      "metadata": {
        "id": "IKQLyVtq_CJy"
      },
      "source": [
        "fianl_seed[\"growth_stage\"] = (seed1['growth_stage']+seed2['growth_stage']+seed3['growth_stage'] + seed4['growth_stage'])/4"
      ],
      "execution_count": null,
      "outputs": []
    },
    {
      "cell_type": "code",
      "metadata": {
        "id": "lieCBLZY_IFC"
      },
      "source": [
        "fianl_seed.to_csv(\"final_seed_1_69_1919_20212020.csv\",index=False)"
      ],
      "execution_count": null,
      "outputs": []
    }
  ]
}